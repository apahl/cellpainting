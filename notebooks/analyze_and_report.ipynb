{
 "cells": [
  {
   "cell_type": "code",
   "execution_count": 1,
   "metadata": {
    "ExecuteTime": {
     "end_time": "2017-08-07T13:55:24.980836Z",
     "start_time": "2017-08-07T13:55:23.741447Z"
    },
    "hide_input": true,
    "init_cell": true,
    "scrolled": false
   },
   "outputs": [
    {
     "name": "stdout",
     "output_type": "stream",
     "text": [
      "> interactive IPython session.\n"
     ]
    },
    {
     "data": {
      "text/html": [
       "\n",
       "    <div class=\"bk-root\">\n",
       "        <a href=\"http://bokeh.pydata.org\" target=\"_blank\" class=\"bk-logo bk-logo-small bk-logo-notebook\"></a>\n",
       "        <span id=\"d860e674-c109-42b2-a59f-e3049868f9ae\">Loading BokehJS ...</span>\n",
       "    </div>"
      ]
     },
     "metadata": {},
     "output_type": "display_data"
    },
    {
     "data": {
      "application/javascript": [
       "\n",
       "(function(global) {\n",
       "  function now() {\n",
       "    return new Date();\n",
       "  }\n",
       "\n",
       "  var force = true;\n",
       "\n",
       "  if (typeof (window._bokeh_onload_callbacks) === \"undefined\" || force === true) {\n",
       "    window._bokeh_onload_callbacks = [];\n",
       "    window._bokeh_is_loading = undefined;\n",
       "  }\n",
       "\n",
       "\n",
       "  \n",
       "  if (typeof (window._bokeh_timeout) === \"undefined\" || force === true) {\n",
       "    window._bokeh_timeout = Date.now() + 5000;\n",
       "    window._bokeh_failed_load = false;\n",
       "  }\n",
       "\n",
       "  var NB_LOAD_WARNING = {'data': {'text/html':\n",
       "     \"<div style='background-color: #fdd'>\\n\"+\n",
       "     \"<p>\\n\"+\n",
       "     \"BokehJS does not appear to have successfully loaded. If loading BokehJS from CDN, this \\n\"+\n",
       "     \"may be due to a slow or bad network connection. Possible fixes:\\n\"+\n",
       "     \"</p>\\n\"+\n",
       "     \"<ul>\\n\"+\n",
       "     \"<li>re-rerun `output_notebook()` to attempt to load from CDN again, or</li>\\n\"+\n",
       "     \"<li>use INLINE resources instead, as so:</li>\\n\"+\n",
       "     \"</ul>\\n\"+\n",
       "     \"<code>\\n\"+\n",
       "     \"from bokeh.resources import INLINE\\n\"+\n",
       "     \"output_notebook(resources=INLINE)\\n\"+\n",
       "     \"</code>\\n\"+\n",
       "     \"</div>\"}};\n",
       "\n",
       "  function display_loaded() {\n",
       "    if (window.Bokeh !== undefined) {\n",
       "      var el = document.getElementById(\"d860e674-c109-42b2-a59f-e3049868f9ae\");\n",
       "      el.textContent = \"BokehJS \" + Bokeh.version + \" successfully loaded.\";\n",
       "    } else if (Date.now() < window._bokeh_timeout) {\n",
       "      setTimeout(display_loaded, 100)\n",
       "    }\n",
       "  }\n",
       "\n",
       "  function run_callbacks() {\n",
       "    try {\n",
       "      window._bokeh_onload_callbacks.forEach(function(callback) { callback() });\n",
       "    }\n",
       "    finally {\n",
       "      delete window._bokeh_onload_callbacks\n",
       "    }\n",
       "    console.info(\"Bokeh: all callbacks have finished\");\n",
       "  }\n",
       "\n",
       "  function load_libs(js_urls, callback) {\n",
       "    window._bokeh_onload_callbacks.push(callback);\n",
       "    if (window._bokeh_is_loading > 0) {\n",
       "      console.log(\"Bokeh: BokehJS is being loaded, scheduling callback at\", now());\n",
       "      return null;\n",
       "    }\n",
       "    if (js_urls == null || js_urls.length === 0) {\n",
       "      run_callbacks();\n",
       "      return null;\n",
       "    }\n",
       "    console.log(\"Bokeh: BokehJS not loaded, scheduling load and callback at\", now());\n",
       "    window._bokeh_is_loading = js_urls.length;\n",
       "    for (var i = 0; i < js_urls.length; i++) {\n",
       "      var url = js_urls[i];\n",
       "      var s = document.createElement('script');\n",
       "      s.src = url;\n",
       "      s.async = false;\n",
       "      s.onreadystatechange = s.onload = function() {\n",
       "        window._bokeh_is_loading--;\n",
       "        if (window._bokeh_is_loading === 0) {\n",
       "          console.log(\"Bokeh: all BokehJS libraries loaded\");\n",
       "          run_callbacks()\n",
       "        }\n",
       "      };\n",
       "      s.onerror = function() {\n",
       "        console.warn(\"failed to load library \" + url);\n",
       "      };\n",
       "      console.log(\"Bokeh: injecting script tag for BokehJS library: \", url);\n",
       "      document.getElementsByTagName(\"head\")[0].appendChild(s);\n",
       "    }\n",
       "  };var element = document.getElementById(\"d860e674-c109-42b2-a59f-e3049868f9ae\");\n",
       "  if (element == null) {\n",
       "    console.log(\"Bokeh: ERROR: autoload.js configured with elementid 'd860e674-c109-42b2-a59f-e3049868f9ae' but no matching script tag was found. \")\n",
       "    return false;\n",
       "  }\n",
       "\n",
       "  var js_urls = [\"https://cdn.pydata.org/bokeh/release/bokeh-0.12.6.min.js\", \"https://cdn.pydata.org/bokeh/release/bokeh-widgets-0.12.6.min.js\"];\n",
       "\n",
       "  var inline_js = [\n",
       "    function(Bokeh) {\n",
       "      Bokeh.set_log_level(\"info\");\n",
       "    },\n",
       "    \n",
       "    function(Bokeh) {\n",
       "      \n",
       "    },\n",
       "    \n",
       "    function(Bokeh) {\n",
       "      \n",
       "      document.getElementById(\"d860e674-c109-42b2-a59f-e3049868f9ae\").textContent = \"BokehJS is loading...\";\n",
       "    },\n",
       "    function(Bokeh) {\n",
       "      console.log(\"Bokeh: injecting CSS: https://cdn.pydata.org/bokeh/release/bokeh-0.12.6.min.css\");\n",
       "      Bokeh.embed.inject_css(\"https://cdn.pydata.org/bokeh/release/bokeh-0.12.6.min.css\");\n",
       "      console.log(\"Bokeh: injecting CSS: https://cdn.pydata.org/bokeh/release/bokeh-widgets-0.12.6.min.css\");\n",
       "      Bokeh.embed.inject_css(\"https://cdn.pydata.org/bokeh/release/bokeh-widgets-0.12.6.min.css\");\n",
       "    }\n",
       "  ];\n",
       "\n",
       "  function run_inline_js() {\n",
       "    \n",
       "    if ((window.Bokeh !== undefined) || (force === true)) {\n",
       "      for (var i = 0; i < inline_js.length; i++) {\n",
       "        inline_js[i](window.Bokeh);\n",
       "      }if (force === true) {\n",
       "        display_loaded();\n",
       "      }} else if (Date.now() < window._bokeh_timeout) {\n",
       "      setTimeout(run_inline_js, 100);\n",
       "    } else if (!window._bokeh_failed_load) {\n",
       "      console.log(\"Bokeh: BokehJS failed to load within specified timeout.\");\n",
       "      window._bokeh_failed_load = true;\n",
       "    } else if (force !== true) {\n",
       "      var cell = $(document.getElementById(\"d860e674-c109-42b2-a59f-e3049868f9ae\")).parents('.cell').data().cell;\n",
       "      cell.output_area.append_execute_result(NB_LOAD_WARNING)\n",
       "    }\n",
       "\n",
       "  }\n",
       "\n",
       "  if (window._bokeh_is_loading === 0) {\n",
       "    console.log(\"Bokeh: BokehJS loaded, going straight to plotting\");\n",
       "    run_inline_js();\n",
       "  } else {\n",
       "    load_libs(js_urls, function() {\n",
       "      console.log(\"Bokeh: BokehJS plotting callback run at\", now());\n",
       "      run_inline_js();\n",
       "    });\n",
       "  }\n",
       "}(this));"
      ]
     },
     "metadata": {},
     "output_type": "display_data"
    },
    {
     "name": "stdout",
     "output_type": "stream",
     "text": [
      "misc_tools.apl_tools                          (commit: fb5de1f ( 2017-06-23 13:16:39 ))\n",
      "rdkit_ipynb_tools.tools                       (commit: 2321c7a ( 2017-07-10 22:15:00 ))\n",
      "- no local installation of JSME found, using web version.\n",
      "> loaded Nim extension.\n",
      "cellpainting.processing                       (commit: ed8df03 ( 2017-08-07 15:34:08 ))\n",
      "cellpainting.reporting                        (commit: ed8df03 ( 2017-08-07 15:34:08 ))\n"
     ]
    }
   ],
   "source": [
    "%reload_ext autoreload\n",
    "%autoreload 2\n",
    "import warnings\n",
    "warnings.filterwarnings('ignore')\n",
    "\n",
    "import os.path as op\n",
    "from collections import Counter\n",
    "\n",
    "import pandas as pd\n",
    "import numpy as np\n",
    "\n",
    "from rdkit.Chem import AllChem as Chem\n",
    "from rdkit.Chem import Draw\n",
    "from rdkit.Chem.Draw import IPythonConsole\n",
    "Draw.DrawingOptions.atomLabelFontFace = \"DejaVu Sans\"\n",
    "Draw.DrawingOptions.atomLabelFontSize = 18\n",
    "\n",
    "from misc_tools import nb_tools as nbt  # , html_templates as html, apl_tools as apt\n",
    "from rdkit_ipynb_tools import tools  # , bokeh_tools as bt, pipeline as p, clustering as cl\n",
    "\n",
    "from cellpainting import processing as cpp, tools as cpt, reporting as cpr\n",
    "\n",
    "import ipywidgets as ipyw\n",
    "from IPython.core.display import HTML, display, clear_output  #, Javascript, display_png, clear_output, display\n",
    "\n",
    "COMAS = \"/home/pahl/comas/share/export_data_b64.tsv.gz\""
   ]
  },
  {
   "cell_type": "markdown",
   "metadata": {
    "hide_input": false
   },
   "source": [
    "# Analyze and Report Current Plate\n",
    "Analyze and report a Cell Painting screening plate in 384 format"
   ]
  },
  {
   "cell_type": "code",
   "execution_count": 4,
   "metadata": {
    "ExecuteTime": {
     "end_time": "2017-08-07T12:07:16.731485Z",
     "start_time": "2017-08-07T12:07:11.440904Z"
    }
   },
   "outputs": [
    {
     "name": "stdout",
     "output_type": "stream",
     "text": [
      "\n",
      "Processing plate 170530_SI0012-1_conf170511mpc ...\n",
      "* load dataset:          ( 3456 | 1937)\n",
      "* group on well:         (  384 | 1937)\n",
      "* remove skipped:        (  384 | 1937)    (  0 skipped ())\n",
      "* well type from pos:    (  384 | 1938)\n",
      "* flag toxic:            (  384 | 1940)    ( 11 flagged)\n",
      "* activity profile:      (  384 |    9)\n",
      "* join layout 1536:      (  352 |   13)\n",
      "* join smiles:           (  352 |   16)\n",
      "* subset:                (  352 |   12)\n",
      "* sort_values:           (  352 |   12)\n"
     ]
    }
   ],
   "source": [
    "DATE             = \"170530\"  # \"170704\", \"170530\"\n",
    "PLATE            = \"SI0012\"\n",
    "CONF             = \"conf170511mpc\"  # \"conf170623mpc\", \"conf170511mpc\"\n",
    "QUADRANTS        = [1]  # [1, 2, 3, 4]\n",
    "\n",
    "WRITE_PKL        = False\n",
    "UPDATE_SIMILAR   = False\n",
    "UPDATE_DATASTORE = False\n",
    "\n",
    "for quadrant in QUADRANTS:\n",
    "    SRC_DIR    = \"/home/pahl/comas/projects/painting/{}-{}-{}_{}\".format(DATE, PLATE, quadrant, CONF)\n",
    "    REPORTNAME = \"report_{}-{}\".format(PLATE, quadrant)\n",
    "    # REPORTNAME = \"report\"\n",
    "\n",
    "    keep = [\"Compound_Id\", \"Container_Id\", \"Producer\", \"Conc_uM\", \"Activity\", \"Toxic\", \"Pure_Flag\", \"Rel_Cell_Count\", \n",
    "            'Act_Profile', \"Metadata_Well\", \"Plate\", 'Smiles']\n",
    "    data_keep = keep.copy()\n",
    "\n",
    "    cpt.create_dirs(op.join(REPORTNAME, \"details\"))\n",
    "\n",
    "    print(\"\\nProcessing plate {}_{}-{}_{} ...\".format(DATE, PLATE, quadrant, CONF))\n",
    "    ds_plate = cpp.load(op.join(SRC_DIR, \"Results.tsv\"))\n",
    "    ds_plate = ds_plate.group_on_well()\n",
    "    ds_plate = ds_plate.remove_skipped_echo_direct_transfer(op.join(SRC_DIR, \"*_print.xml\"))\n",
    "    ds_plate = ds_plate.well_type_from_position()\n",
    "\n",
    "    ds_plate = ds_plate.flag_toxic()\n",
    "    ds_plate = ds_plate.activity_profile()\n",
    "    ds_plate = ds_plate.join_layout_1536(PLATE, quadrant)   \n",
    "    ds_plate.data[\"Plate\"] = \"{}-{}-{}\".format(DATE, PLATE, quadrant)\n",
    "\n",
    "    ds_plate = ds_plate.join_smiles()\n",
    "    ds_profile = ds_plate[keep]\n",
    "    if UPDATE_SIMILAR:\n",
    "        ds_profile.update_similar_refs(write=False)\n",
    "\n",
    "    if WRITE_PKL:\n",
    "        ds_profile.write_pkl(\"{}-{}-{}_profile.pkl\".format(DATE, PLATE, quadrant))\n",
    "    # ds_profile = cpp.load_pkl(\"{}-{}-{}_profile.pkl\".format(DATE, PLATE, quadrant))\n",
    "\n",
    "    ds_report = ds_profile.sort_values([\"Toxic\", \"Activity\"], ascending=[True, False])\n",
    "    # ds_report = ds_profile.remove_toxic()[0].sort_values(\"Activity\", ascending = False)\n",
    "    # ds_report.data = ds_report.data.head(10)\n",
    "\n",
    "    cpr.full_report(ds_report, SRC_DIR, report_name=REPORTNAME,\n",
    "                    plate=\"{}-{}\".format(PLATE, quadrant), highlight=True)\n",
    "\n",
    "    if UPDATE_DATASTORE:\n",
    "        ds_profile.update_datastore(mode=\"cpd\", write=False)\n",
    "\n",
    "if UPDATE_SIMILAR:\n",
    "    cpp.write_sim_refs()\n",
    "if UPDATE_DATASTORE:\n",
    "    cpp.write_datastore()"
   ]
  },
  {
   "cell_type": "code",
   "execution_count": null,
   "metadata": {
    "ExecuteTime": {
     "end_time": "2017-08-07T12:05:12.266001Z",
     "start_time": "2017-08-07T12:05:12.100825Z"
    },
    "collapsed": true
   },
   "outputs": [],
   "source": [
    "cpp.write_datastore()"
   ]
  },
  {
   "cell_type": "code",
   "execution_count": null,
   "metadata": {
    "ExecuteTime": {
     "end_time": "2017-08-07T12:05:31.364246Z",
     "start_time": "2017-08-07T12:05:31.349021Z"
    },
    "collapsed": true
   },
   "outputs": [],
   "source": [
    "cpp.clear_resources()"
   ]
  },
  {
   "cell_type": "markdown",
   "metadata": {
    "hide_input": false
   },
   "source": [
    "# Report Current Plate with Existing Data\n",
    "Report a Cell Painting screening plate in 384 format with pre-generated data."
   ]
  },
  {
   "cell_type": "code",
   "execution_count": 5,
   "metadata": {
    "ExecuteTime": {
     "end_time": "2017-08-07T13:01:53.541055Z",
     "start_time": "2017-08-07T13:00:02.965202Z"
    }
   },
   "outputs": [
    {
     "name": "stdout",
     "output_type": "stream",
     "text": [
      "cellpainting.processing                       (commit: 7e77cd2 ( 2017-08-05 22:51:25 ))\n",
      "cellpainting.reporting                        (commit: 7e77cd2 ( 2017-08-05 22:51:25 ))\n",
      "\n",
      "Processing plate 170530_SI0012-1_conf170511mpc ...\n",
      "* load pickle:           (  352 |   12)\n",
      "* sort_values:           (  352 |   12)\n",
      "* creating overview...\n",
      "- loading resource:                        (SIM_REFS)\n",
      "* creating detailed reports...\n",
      "  * loading control images...\n",
      "  * writing individual reports...\n",
      "- loading resource:                        (REFERENCES)\n",
      "* done.\n"
     ]
    }
   ],
   "source": [
    "DATE       = \"170530\"  # \"170704\", \"170530\"\n",
    "PLATE      = \"SI0012\"\n",
    "CONF       = \"conf170511mpc\"  # \"conf170623mpc\", \"conf170511mpc\"\n",
    "QUADRANTS  = [1]  # [1, 2, 3, 4]\n",
    "\n",
    "for quadrant in QUADRANTS:\n",
    "    SRC_DIR    = \"/home/pahl/comas/projects/painting/{}-{}-{}_{}\".format(DATE, PLATE, quadrant, CONF)\n",
    "    REPORTNAME = \"report_{}-{}\".format(PLATE, quadrant)\n",
    "    # REPORTNAME = \"report\"\n",
    "\n",
    "    cpt.create_dirs(op.join(REPORTNAME, \"details\"))\n",
    "\n",
    "    print(\"\\nProcessing plate {}_{}-{}_{} ...\".format(DATE, PLATE, quadrant, CONF))\n",
    "    ds_profile = cpp.load_pkl(\"{}-{}-{}_profile.pkl\".format(DATE, PLATE, quadrant))\n",
    "\n",
    "    ds_report = ds_profile.sort_values([\"Toxic\", \"Activity\"], ascending=[True, False])\n",
    "    # ds_report = ds_profile.remove_toxic()[0].sort_values(\"Activity\", ascending = False)\n",
    "    # ds_report.data = ds_report.data.head(10)\n",
    "\n",
    "    cpr.full_report(ds_report, SRC_DIR, report_name=REPORTNAME,\n",
    "                    plate=\"{}-{}\".format(PLATE, quadrant), highlight=True)"
   ]
  },
  {
   "cell_type": "markdown",
   "metadata": {},
   "source": [
    "# Reference Plates"
   ]
  },
  {
   "cell_type": "code",
   "execution_count": null,
   "metadata": {
    "ExecuteTime": {
     "end_time": "2017-08-04T17:24:21.878138Z",
     "start_time": "2017-08-04T17:01:11.468085Z"
    },
    "collapsed": true,
    "scrolled": true
   },
   "outputs": [],
   "source": [
    "REF_DIR     = \"/home/pahl/comas/projects/painting/references\"\n",
    "PLATE_NAMES = [\"S0195\", \"S0198\", \"S0203\"]  # \"S0195\", \"S0198\", \"S0203\"\n",
    "DATES       = {\"S0195\": \"170523\", \"S0198\": \"170516\", \"S0203\": \"170512\"}\n",
    "REPORTNAME  = \"references\"\n",
    "\n",
    "cpt.create_dirs(op.join(REPORTNAME, \"details\"))\n",
    "\n",
    "pb = nbt.ProgressbarJS()\n",
    "ds_ref = cpp.load(\"references_act_prof.tsv\")\n",
    "num_steps = 4 * len(PLATE_NAMES)\n",
    "step = 0\n",
    "for plate in PLATE_NAMES:\n",
    "    for idx in range(1, 5):\n",
    "        step += 1\n",
    "        pb.update(100 * step / num_steps)\n",
    "        SRC_DIR = \"{}/{}-{}\".format(REF_DIR, plate, idx)\n",
    "        print(\"\\nProcessing plate {}-{} ...\".format(plate, idx))\n",
    "        ds_profile = ds_ref[ds_ref[\"Plate\"] == \"{}-{}-{}\".format(DATES[plate], plate, idx)].copy()\n",
    "    \n",
    "        ds_report = ds_profile.sort_values([\"Toxic\", \"Activity\"], ascending=[True, False])\n",
    "        cpr.full_report(ds_profile, SRC_DIR, report_name=REPORTNAME,\n",
    "                        plate=\"{}-{}\".format(plate, idx), highlight=True, mode=\"ref\")\n",
    "pb.done()"
   ]
  },
  {
   "cell_type": "code",
   "execution_count": null,
   "metadata": {
    "collapsed": true
   },
   "outputs": [],
   "source": []
  }
 ],
 "metadata": {
  "hide_input": false,
  "kernelspec": {
   "display_name": "Python 3",
   "language": "python",
   "name": "python3"
  },
  "language_info": {
   "codemirror_mode": {
    "name": "ipython",
    "version": 3
   },
   "file_extension": ".py",
   "mimetype": "text/x-python",
   "name": "python",
   "nbconvert_exporter": "python",
   "pygments_lexer": "ipython3",
   "version": "3.6.2"
  },
  "nav_menu": {},
  "toc": {
   "colors": {
    "hover_highlight": "#DAA520",
    "navigate_num": "#000000",
    "navigate_text": "#333333",
    "running_highlight": "#FF0000",
    "selected_highlight": "#FFD700",
    "sidebar_border": "#EEEEEE",
    "wrapper_background": "#FFFFFF"
   },
   "moveMenuLeft": true,
   "nav_menu": {
    "height": "100px",
    "width": "252px"
   },
   "navigate_menu": true,
   "number_sections": true,
   "sideBar": true,
   "threshold": 4,
   "toc_cell": false,
   "toc_section_display": "block",
   "toc_window_display": false,
   "widenNotebook": false
  }
 },
 "nbformat": 4,
 "nbformat_minor": 2
}
