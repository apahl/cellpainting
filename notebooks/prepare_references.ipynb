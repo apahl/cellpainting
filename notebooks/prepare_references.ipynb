{
 "cells": [
  {
   "cell_type": "code",
   "execution_count": 1,
   "metadata": {
    "ExecuteTime": {
     "end_time": "2017-08-07T13:59:20.833547Z",
     "start_time": "2017-08-07T13:59:19.391605Z"
    },
    "hide_input": false,
    "init_cell": true
   },
   "outputs": [
    {
     "name": "stdout",
     "output_type": "stream",
     "text": [
      "> interactive IPython session.\n"
     ]
    },
    {
     "data": {
      "text/html": [
       "\n",
       "    <div class=\"bk-root\">\n",
       "        <a href=\"http://bokeh.pydata.org\" target=\"_blank\" class=\"bk-logo bk-logo-small bk-logo-notebook\"></a>\n",
       "        <span id=\"9f65a456-6b65-4cd7-8779-1ac8d73d3744\">Loading BokehJS ...</span>\n",
       "    </div>"
      ]
     },
     "metadata": {},
     "output_type": "display_data"
    },
    {
     "data": {
      "application/javascript": [
       "\n",
       "(function(global) {\n",
       "  function now() {\n",
       "    return new Date();\n",
       "  }\n",
       "\n",
       "  var force = true;\n",
       "\n",
       "  if (typeof (window._bokeh_onload_callbacks) === \"undefined\" || force === true) {\n",
       "    window._bokeh_onload_callbacks = [];\n",
       "    window._bokeh_is_loading = undefined;\n",
       "  }\n",
       "\n",
       "\n",
       "  \n",
       "  if (typeof (window._bokeh_timeout) === \"undefined\" || force === true) {\n",
       "    window._bokeh_timeout = Date.now() + 5000;\n",
       "    window._bokeh_failed_load = false;\n",
       "  }\n",
       "\n",
       "  var NB_LOAD_WARNING = {'data': {'text/html':\n",
       "     \"<div style='background-color: #fdd'>\\n\"+\n",
       "     \"<p>\\n\"+\n",
       "     \"BokehJS does not appear to have successfully loaded. If loading BokehJS from CDN, this \\n\"+\n",
       "     \"may be due to a slow or bad network connection. Possible fixes:\\n\"+\n",
       "     \"</p>\\n\"+\n",
       "     \"<ul>\\n\"+\n",
       "     \"<li>re-rerun `output_notebook()` to attempt to load from CDN again, or</li>\\n\"+\n",
       "     \"<li>use INLINE resources instead, as so:</li>\\n\"+\n",
       "     \"</ul>\\n\"+\n",
       "     \"<code>\\n\"+\n",
       "     \"from bokeh.resources import INLINE\\n\"+\n",
       "     \"output_notebook(resources=INLINE)\\n\"+\n",
       "     \"</code>\\n\"+\n",
       "     \"</div>\"}};\n",
       "\n",
       "  function display_loaded() {\n",
       "    if (window.Bokeh !== undefined) {\n",
       "      var el = document.getElementById(\"9f65a456-6b65-4cd7-8779-1ac8d73d3744\");\n",
       "      el.textContent = \"BokehJS \" + Bokeh.version + \" successfully loaded.\";\n",
       "    } else if (Date.now() < window._bokeh_timeout) {\n",
       "      setTimeout(display_loaded, 100)\n",
       "    }\n",
       "  }\n",
       "\n",
       "  function run_callbacks() {\n",
       "    try {\n",
       "      window._bokeh_onload_callbacks.forEach(function(callback) { callback() });\n",
       "    }\n",
       "    finally {\n",
       "      delete window._bokeh_onload_callbacks\n",
       "    }\n",
       "    console.info(\"Bokeh: all callbacks have finished\");\n",
       "  }\n",
       "\n",
       "  function load_libs(js_urls, callback) {\n",
       "    window._bokeh_onload_callbacks.push(callback);\n",
       "    if (window._bokeh_is_loading > 0) {\n",
       "      console.log(\"Bokeh: BokehJS is being loaded, scheduling callback at\", now());\n",
       "      return null;\n",
       "    }\n",
       "    if (js_urls == null || js_urls.length === 0) {\n",
       "      run_callbacks();\n",
       "      return null;\n",
       "    }\n",
       "    console.log(\"Bokeh: BokehJS not loaded, scheduling load and callback at\", now());\n",
       "    window._bokeh_is_loading = js_urls.length;\n",
       "    for (var i = 0; i < js_urls.length; i++) {\n",
       "      var url = js_urls[i];\n",
       "      var s = document.createElement('script');\n",
       "      s.src = url;\n",
       "      s.async = false;\n",
       "      s.onreadystatechange = s.onload = function() {\n",
       "        window._bokeh_is_loading--;\n",
       "        if (window._bokeh_is_loading === 0) {\n",
       "          console.log(\"Bokeh: all BokehJS libraries loaded\");\n",
       "          run_callbacks()\n",
       "        }\n",
       "      };\n",
       "      s.onerror = function() {\n",
       "        console.warn(\"failed to load library \" + url);\n",
       "      };\n",
       "      console.log(\"Bokeh: injecting script tag for BokehJS library: \", url);\n",
       "      document.getElementsByTagName(\"head\")[0].appendChild(s);\n",
       "    }\n",
       "  };var element = document.getElementById(\"9f65a456-6b65-4cd7-8779-1ac8d73d3744\");\n",
       "  if (element == null) {\n",
       "    console.log(\"Bokeh: ERROR: autoload.js configured with elementid '9f65a456-6b65-4cd7-8779-1ac8d73d3744' but no matching script tag was found. \")\n",
       "    return false;\n",
       "  }\n",
       "\n",
       "  var js_urls = [\"https://cdn.pydata.org/bokeh/release/bokeh-0.12.6.min.js\", \"https://cdn.pydata.org/bokeh/release/bokeh-widgets-0.12.6.min.js\"];\n",
       "\n",
       "  var inline_js = [\n",
       "    function(Bokeh) {\n",
       "      Bokeh.set_log_level(\"info\");\n",
       "    },\n",
       "    \n",
       "    function(Bokeh) {\n",
       "      \n",
       "    },\n",
       "    \n",
       "    function(Bokeh) {\n",
       "      \n",
       "      document.getElementById(\"9f65a456-6b65-4cd7-8779-1ac8d73d3744\").textContent = \"BokehJS is loading...\";\n",
       "    },\n",
       "    function(Bokeh) {\n",
       "      console.log(\"Bokeh: injecting CSS: https://cdn.pydata.org/bokeh/release/bokeh-0.12.6.min.css\");\n",
       "      Bokeh.embed.inject_css(\"https://cdn.pydata.org/bokeh/release/bokeh-0.12.6.min.css\");\n",
       "      console.log(\"Bokeh: injecting CSS: https://cdn.pydata.org/bokeh/release/bokeh-widgets-0.12.6.min.css\");\n",
       "      Bokeh.embed.inject_css(\"https://cdn.pydata.org/bokeh/release/bokeh-widgets-0.12.6.min.css\");\n",
       "    }\n",
       "  ];\n",
       "\n",
       "  function run_inline_js() {\n",
       "    \n",
       "    if ((window.Bokeh !== undefined) || (force === true)) {\n",
       "      for (var i = 0; i < inline_js.length; i++) {\n",
       "        inline_js[i](window.Bokeh);\n",
       "      }if (force === true) {\n",
       "        display_loaded();\n",
       "      }} else if (Date.now() < window._bokeh_timeout) {\n",
       "      setTimeout(run_inline_js, 100);\n",
       "    } else if (!window._bokeh_failed_load) {\n",
       "      console.log(\"Bokeh: BokehJS failed to load within specified timeout.\");\n",
       "      window._bokeh_failed_load = true;\n",
       "    } else if (force !== true) {\n",
       "      var cell = $(document.getElementById(\"9f65a456-6b65-4cd7-8779-1ac8d73d3744\")).parents('.cell').data().cell;\n",
       "      cell.output_area.append_execute_result(NB_LOAD_WARNING)\n",
       "    }\n",
       "\n",
       "  }\n",
       "\n",
       "  if (window._bokeh_is_loading === 0) {\n",
       "    console.log(\"Bokeh: BokehJS loaded, going straight to plotting\");\n",
       "    run_inline_js();\n",
       "  } else {\n",
       "    load_libs(js_urls, function() {\n",
       "      console.log(\"Bokeh: BokehJS plotting callback run at\", now());\n",
       "      run_inline_js();\n",
       "    });\n",
       "  }\n",
       "}(this));"
      ]
     },
     "metadata": {},
     "output_type": "display_data"
    },
    {
     "name": "stdout",
     "output_type": "stream",
     "text": [
      "misc_tools.apl_tools                          (commit: fb5de1f ( 2017-06-23 13:16:39 ))\n",
      "rdkit_ipynb_tools.tools                       (commit: 2321c7a ( 2017-07-10 22:15:00 ))\n",
      "- no local installation of JSME found, using web version.\n",
      "> loaded Nim extension.\n",
      "cellpainting.processing                       (commit: ed8df03 ( 2017-08-07 15:34:08 ))\n"
     ]
    }
   ],
   "source": [
    "%reload_ext autoreload\n",
    "%autoreload 2\n",
    "import warnings\n",
    "warnings.filterwarnings('ignore')\n",
    "\n",
    "import os.path as op\n",
    "from collections import Counter\n",
    "\n",
    "import pandas as pd\n",
    "import numpy as np\n",
    "import matplotlib.pyplot as plt\n",
    "import seaborn as sns\n",
    "# from tabulate import tabulate\n",
    "\n",
    "from rdkit.Chem import AllChem as Chem\n",
    "from rdkit.Chem import Draw\n",
    "from rdkit.Chem.Draw import IPythonConsole\n",
    "Draw.DrawingOptions.atomLabelFontFace = \"DejaVu Sans\"\n",
    "Draw.DrawingOptions.atomLabelFontSize = 18\n",
    "\n",
    "from misc_tools import nb_tools as nbt  # , html_templates as html, apl_tools as apt\n",
    "from rdkit_ipynb_tools import tools  # , bokeh_tools as bt, pipeline as p, clustering as cl\n",
    "\n",
    "from cellpainting import processing as cpp, tools as cpt\n",
    "\n",
    "import ipywidgets as ipyw\n",
    "from IPython.core.display import HTML, display, clear_output  #, Javascript, display_png, clear_output, display\n",
    "\n",
    "COMAS = \"/home/pahl/comas/share/export_data_b64.tsv.gz\""
   ]
  },
  {
   "cell_type": "markdown",
   "metadata": {},
   "source": [
    "# Prepare References\n",
    "Generate the references file.\n"
   ]
  },
  {
   "cell_type": "code",
   "execution_count": 2,
   "metadata": {
    "ExecuteTime": {
     "end_time": "2017-08-07T13:17:54.363045Z",
     "start_time": "2017-08-07T13:16:50.748789Z"
    },
    "scrolled": true
   },
   "outputs": [
    {
     "name": "stdout",
     "output_type": "stream",
     "text": [
      "cellpainting.processing                       (commit: 7e77cd2 ( 2017-08-05 22:51:25 ))\n"
     ]
    },
    {
     "data": {
      "text/html": [
       "\n",
       "                <table style=\"border: none;\"><tbody><tr style=\"border: none;\">\n",
       "                <td style=\"border: none;\"><div style=\"border: 1px solid black; height:6px; width:500px\">\n",
       "                  <div id=\"23387c92-8c1f-4162-893e-a3dfb6765055\" style=\"background-color:#43ace8; height:4px; width:0%\">&nbsp;</div>\n",
       "                </div></td><td style=\"border: none;\">&nbsp;ETA:&nbsp;</td><td style=\"border: none;\"><div id=\"4319867f-319f-450d-aeef-efcb2601b592\" width=100px></div></td>\n",
       "                </tr></tbody></table>\n",
       "                "
      ],
      "text/plain": [
       "<IPython.core.display.HTML object>"
      ]
     },
     "metadata": {},
     "output_type": "display_data"
    },
    {
     "data": {
      "application/javascript": [
       "\n",
       "                                     $('div#23387c92-8c1f-4162-893e-a3dfb6765055').width('8.333333333333334%');\n",
       "                                     $('div#4319867f-319f-450d-aeef-efcb2601b592').text('...');\n",
       "                                   "
      ],
      "text/plain": [
       "<IPython.core.display.Javascript object>"
      ]
     },
     "metadata": {},
     "output_type": "display_data"
    },
    {
     "name": "stdout",
     "output_type": "stream",
     "text": [
      "\n",
      "Processing plate S0195-1 ...\n",
      "* load dataset:          ( 3456 | 1937)\n",
      "* group on well:         (  384 | 1937)\n",
      "* remove skipped:        (  384 | 1937)    (  0 skipped ())\n",
      "* well type from pos:    (  384 | 1938)\n",
      "* flag toxic:            (  384 | 1940)    ( 18 flagged)\n",
      "* activity profile:      (  384 |    9)\n",
      "- loading resource:                        (LAYOUTS)\n",
      "* join layout 1536:      (  352 |   13)\n"
     ]
    },
    {
     "data": {
      "application/javascript": [
       "\n",
       "                                     $('div#23387c92-8c1f-4162-893e-a3dfb6765055').width('16.666666666666668%');\n",
       "                                     $('div#4319867f-319f-450d-aeef-efcb2601b592').text('...');\n",
       "                                   "
      ],
      "text/plain": [
       "<IPython.core.display.Javascript object>"
      ]
     },
     "metadata": {},
     "output_type": "display_data"
    },
    {
     "name": "stdout",
     "output_type": "stream",
     "text": [
      "\n",
      "Processing plate S0195-2 ...\n",
      "* load dataset:          ( 3456 | 1937)\n",
      "* group on well:         (  384 | 1937)\n",
      "* remove skipped:        (  384 | 1937)    (  0 skipped ())\n",
      "* well type from pos:    (  384 | 1938)\n",
      "* flag toxic:            (  384 | 1940)    (  9 flagged)\n",
      "* activity profile:      (  384 |    9)\n",
      "* join layout 1536:      (  352 |   13)\n"
     ]
    },
    {
     "data": {
      "application/javascript": [
       "\n",
       "                                     $('div#23387c92-8c1f-4162-893e-a3dfb6765055').width('25.0%');\n",
       "                                     $('div#4319867f-319f-450d-aeef-efcb2601b592').text('00h 00m 32.31s');\n",
       "                                   "
      ],
      "text/plain": [
       "<IPython.core.display.Javascript object>"
      ]
     },
     "metadata": {},
     "output_type": "display_data"
    },
    {
     "name": "stdout",
     "output_type": "stream",
     "text": [
      "\n",
      "Processing plate S0195-3 ...\n",
      "* load dataset:          ( 3456 | 1937)\n",
      "* group on well:         (  384 | 1937)\n",
      "* remove skipped:        (  384 | 1937)    (  0 skipped ())\n",
      "* well type from pos:    (  384 | 1938)\n",
      "* flag toxic:            (  384 | 1940)    ( 12 flagged)\n",
      "* activity profile:      (  384 |    9)\n",
      "* join layout 1536:      (  352 |   13)\n"
     ]
    },
    {
     "data": {
      "application/javascript": [
       "\n",
       "                                     $('div#23387c92-8c1f-4162-893e-a3dfb6765055').width('33.333333333333336%');\n",
       "                                     $('div#4319867f-319f-450d-aeef-efcb2601b592').text('00h 00m 31.80s');\n",
       "                                   "
      ],
      "text/plain": [
       "<IPython.core.display.Javascript object>"
      ]
     },
     "metadata": {},
     "output_type": "display_data"
    },
    {
     "name": "stdout",
     "output_type": "stream",
     "text": [
      "\n",
      "Processing plate S0195-4 ...\n",
      "* load dataset:          ( 3456 | 1937)\n",
      "* group on well:         (  384 | 1937)\n",
      "* remove skipped:        (  384 | 1937)    (  0 skipped ())\n",
      "* well type from pos:    (  384 | 1938)\n",
      "* flag toxic:            (  384 | 1940)    ( 14 flagged)\n",
      "* activity profile:      (  384 |    9)\n",
      "* join layout 1536:      (  352 |   13)\n"
     ]
    },
    {
     "data": {
      "application/javascript": [
       "\n",
       "                                     $('div#23387c92-8c1f-4162-893e-a3dfb6765055').width('41.666666666666664%');\n",
       "                                     $('div#4319867f-319f-450d-aeef-efcb2601b592').text('00h 00m 29.36s');\n",
       "                                   "
      ],
      "text/plain": [
       "<IPython.core.display.Javascript object>"
      ]
     },
     "metadata": {},
     "output_type": "display_data"
    },
    {
     "name": "stdout",
     "output_type": "stream",
     "text": [
      "\n",
      "Processing plate S0198-1 ...\n",
      "* load dataset:          ( 3456 | 1937)\n",
      "* group on well:         (  384 | 1937)\n",
      "* remove skipped:        (  383 | 1937)    (  1 skipped (A01))\n",
      "* well type from pos:    (  383 | 1938)\n",
      "* flag toxic:            (  383 | 1940)    (  2 flagged)\n",
      "* activity profile:      (  383 |    9)\n",
      "* join layout 1536:      (  351 |   13)\n"
     ]
    },
    {
     "data": {
      "application/javascript": [
       "\n",
       "                                     $('div#23387c92-8c1f-4162-893e-a3dfb6765055').width('50.0%');\n",
       "                                     $('div#4319867f-319f-450d-aeef-efcb2601b592').text('00h 00m 26.49s');\n",
       "                                   "
      ],
      "text/plain": [
       "<IPython.core.display.Javascript object>"
      ]
     },
     "metadata": {},
     "output_type": "display_data"
    },
    {
     "name": "stdout",
     "output_type": "stream",
     "text": [
      "\n",
      "Processing plate S0198-2 ...\n",
      "* load dataset:          ( 3456 | 1937)\n",
      "* group on well:         (  384 | 1937)\n",
      "* remove skipped:        (  383 | 1937)    (  1 skipped (A01))\n",
      "* well type from pos:    (  383 | 1938)\n",
      "* flag toxic:            (  383 | 1940)    ( 13 flagged)\n",
      "* activity profile:      (  383 |    9)\n",
      "* join layout 1536:      (  351 |   13)\n"
     ]
    },
    {
     "data": {
      "application/javascript": [
       "\n",
       "                                     $('div#23387c92-8c1f-4162-893e-a3dfb6765055').width('58.333333333333336%');\n",
       "                                     $('div#4319867f-319f-450d-aeef-efcb2601b592').text('00h 00m 22.59s');\n",
       "                                   "
      ],
      "text/plain": [
       "<IPython.core.display.Javascript object>"
      ]
     },
     "metadata": {},
     "output_type": "display_data"
    },
    {
     "name": "stdout",
     "output_type": "stream",
     "text": [
      "\n",
      "Processing plate S0198-3 ...\n",
      "* load dataset:          ( 3456 | 1937)\n",
      "* group on well:         (  384 | 1937)\n",
      "* remove skipped:        (  384 | 1937)    (  0 skipped ())\n",
      "* well type from pos:    (  384 | 1938)\n",
      "* flag toxic:            (  384 | 1940)    (  7 flagged)\n",
      "* activity profile:      (  384 |    9)\n",
      "* join layout 1536:      (  352 |   13)\n"
     ]
    },
    {
     "data": {
      "application/javascript": [
       "\n",
       "                                     $('div#23387c92-8c1f-4162-893e-a3dfb6765055').width('66.66666666666667%');\n",
       "                                     $('div#4319867f-319f-450d-aeef-efcb2601b592').text('00h 00m 18.36s');\n",
       "                                   "
      ],
      "text/plain": [
       "<IPython.core.display.Javascript object>"
      ]
     },
     "metadata": {},
     "output_type": "display_data"
    },
    {
     "name": "stdout",
     "output_type": "stream",
     "text": [
      "\n",
      "Processing plate S0198-4 ...\n",
      "* load dataset:          ( 3456 | 1937)\n",
      "* group on well:         (  384 | 1937)\n",
      "* remove skipped:        (  384 | 1937)    (  0 skipped ())\n",
      "* well type from pos:    (  384 | 1938)\n",
      "* flag toxic:            (  384 | 1940)    (  8 flagged)\n",
      "* activity profile:      (  384 |    9)\n",
      "* join layout 1536:      (  352 |   13)\n"
     ]
    },
    {
     "data": {
      "application/javascript": [
       "\n",
       "                                     $('div#23387c92-8c1f-4162-893e-a3dfb6765055').width('75.0%');\n",
       "                                     $('div#4319867f-319f-450d-aeef-efcb2601b592').text('00h 00m 13.92s');\n",
       "                                   "
      ],
      "text/plain": [
       "<IPython.core.display.Javascript object>"
      ]
     },
     "metadata": {},
     "output_type": "display_data"
    },
    {
     "name": "stdout",
     "output_type": "stream",
     "text": [
      "\n",
      "Processing plate S0203-1 ...\n",
      "* load dataset:          ( 3456 | 1937)\n",
      "* group on well:         (  384 | 1937)\n",
      "* remove skipped:        (  383 | 1937)    (  1 skipped (P01))\n",
      "* well type from pos:    (  383 | 1938)\n",
      "* flag toxic:            (  383 | 1940)    ( 10 flagged)\n",
      "* activity profile:      (  383 |    9)\n",
      "* join layout 1536:      (  351 |   13)\n"
     ]
    },
    {
     "data": {
      "application/javascript": [
       "\n",
       "                                     $('div#23387c92-8c1f-4162-893e-a3dfb6765055').width('83.33333333333333%');\n",
       "                                     $('div#4319867f-319f-450d-aeef-efcb2601b592').text('00h 00m 9.41s');\n",
       "                                   "
      ],
      "text/plain": [
       "<IPython.core.display.Javascript object>"
      ]
     },
     "metadata": {},
     "output_type": "display_data"
    },
    {
     "name": "stdout",
     "output_type": "stream",
     "text": [
      "\n",
      "Processing plate S0203-2 ...\n",
      "* load dataset:          ( 3456 | 1937)\n",
      "* group on well:         (  384 | 1937)\n",
      "* remove skipped:        (  384 | 1937)    (  0 skipped ())\n",
      "* well type from pos:    (  384 | 1938)\n",
      "* flag toxic:            (  384 | 1940)    ( 26 flagged)\n",
      "* activity profile:      (  384 |    9)\n",
      "* join layout 1536:      (  352 |   13)\n"
     ]
    },
    {
     "data": {
      "application/javascript": [
       "\n",
       "                                     $('div#23387c92-8c1f-4162-893e-a3dfb6765055').width('91.66666666666667%');\n",
       "                                     $('div#4319867f-319f-450d-aeef-efcb2601b592').text('00h 00m 4.77s');\n",
       "                                   "
      ],
      "text/plain": [
       "<IPython.core.display.Javascript object>"
      ]
     },
     "metadata": {},
     "output_type": "display_data"
    },
    {
     "name": "stdout",
     "output_type": "stream",
     "text": [
      "\n",
      "Processing plate S0203-3 ...\n",
      "* load dataset:          ( 3456 | 1937)\n",
      "* group on well:         (  384 | 1937)\n",
      "* remove skipped:        (  383 | 1937)    (  1 skipped (K05))\n",
      "* well type from pos:    (  383 | 1938)\n",
      "* flag toxic:            (  383 | 1940)    ( 13 flagged)\n",
      "* activity profile:      (  383 |    9)\n",
      "* join layout 1536:      (  351 |   13)\n"
     ]
    },
    {
     "data": {
      "application/javascript": [
       "\n",
       "                                     $('div#23387c92-8c1f-4162-893e-a3dfb6765055').width('100.0%');\n",
       "                                     $('div#4319867f-319f-450d-aeef-efcb2601b592').text('00h 00m 0.00s');\n",
       "                                   "
      ],
      "text/plain": [
       "<IPython.core.display.Javascript object>"
      ]
     },
     "metadata": {},
     "output_type": "display_data"
    },
    {
     "name": "stdout",
     "output_type": "stream",
     "text": [
      "\n",
      "Processing plate S0203-4 ...\n",
      "* load dataset:          ( 3456 | 1937)\n",
      "* group on well:         (  384 | 1937)\n",
      "* remove skipped:        (  384 | 1937)    (  0 skipped ())\n",
      "* well type from pos:    (  384 | 1938)\n",
      "* flag toxic:            (  384 | 1940)    ( 10 flagged)\n",
      "* activity profile:      (  384 |    9)\n",
      "* join layout 1536:      (  352 |   13)\n"
     ]
    },
    {
     "data": {
      "application/javascript": [
       "\n",
       "                                 $('div#23387c92-8c1f-4162-893e-a3dfb6765055').width('100%');\n",
       "                                 $('div#4319867f-319f-450d-aeef-efcb2601b592').text('done');\n",
       "                               "
      ],
      "text/plain": [
       "<IPython.core.display.Javascript object>"
      ]
     },
     "metadata": {},
     "output_type": "display_data"
    }
   ],
   "source": [
    "REF_DIR = \"/home/pahl/comas/projects/painting/references\"\n",
    "PLATE_NAMES = [\"S0195\", \"S0198\", \"S0203\"]  # \"S0195\", \"S0198\", \"S0203\"\n",
    "DATES = {\"S0195\": \"170523\", \"S0198\": \"170516\", \"S0203\": \"170512\"}\n",
    "keep = [\"Compound_Id\", \"Container_Id\", \"Producer\", \"Conc_uM\", \"Activity\", \"Rel_Cell_Count\", \"Pure_Flag\", \"Toxic\", \n",
    "        'Trivial_Name', 'Known_Act', 'Act_Profile', \"Metadata_Well\", \"Plate\", 'Smiles']\n",
    "data_keep = [\"Compound_Id\", \"Container_Id\", \"Producer\", \"Conc_uM\", \"Pure_Flag\", \"Activity\", \"Rel_Cell_Count\", \"Toxic\", \n",
    "             'Act_Profile', \"Metadata_Well\", \"Plate\", 'Smiles']\n",
    "ds_list = []\n",
    "pb = nbt.ProgressbarJS()\n",
    "num_steps = 4 * len(PLATE_NAMES)\n",
    "step = 0\n",
    "for plate in PLATE_NAMES:\n",
    "    for idx in range(1, 5):\n",
    "        step += 1\n",
    "        pb.update(100 * step / num_steps)        \n",
    "        path = op.join(REF_DIR, \"{}-{}\".format(plate, idx))\n",
    "        print(\"\\nProcessing plate {}-{} ...\".format(plate, idx))\n",
    "        ds_plate = cpp.load(op.join(path, \"Results.tsv\"))\n",
    "        ds_plate = ds_plate.group_on_well()\n",
    "        ds_plate = ds_plate.remove_skipped_echo_direct_transfer(op.join(path, \"*_print.xml\"))\n",
    "        ds_plate = ds_plate.well_type_from_position()\n",
    "        ds_plate = ds_plate.flag_toxic()\n",
    "        ds_plate = ds_plate.activity_profile()\n",
    "        ds_plate = ds_plate.join_layout_1536(plate, idx)\n",
    "        ds_plate.data[\"Plate\"] = \"{}-{}-{}\".format(DATES[plate], plate, idx)\n",
    "        ds_list.append(ds_plate.data)\n",
    "pb.done()"
   ]
  },
  {
   "cell_type": "code",
   "execution_count": 3,
   "metadata": {
    "ExecuteTime": {
     "end_time": "2017-08-07T13:21:04.507363Z",
     "start_time": "2017-08-07T13:18:30.328767Z"
    }
   },
   "outputs": [
    {
     "name": "stdout",
     "output_type": "stream",
     "text": [
      "* concat data:           ( 4220 |   14)\n",
      "- loading resource:                        (SMILES)\n",
      "* join smiles:           ( 3921 |   16)\n",
      "* remove impure:         ( 3577 |   16)    (344 removed)\n",
      "* remove toxic:          ( 3460 |   16)    (117 removed)\n",
      "* subset:                ( 2476 |   16)\n",
      "- loading resource:                        (ANNOTATIONS)\n",
      "* join annotations:      ( 2476 |   18)\n",
      "- loading resource:                        (REFERENCES)\n",
      "- loading resource:                        (SIM_REFS)\n",
      "* write sim_refs         ( 1966 |  --  )\n",
      "* update similar:        ( 2476 |   18)\n",
      "* subset:                ( 2476 |   14)\n",
      "- loading resource:                        (DATASTORE)\n",
      "* write datastore:       ( 5328 |   13)\n",
      "* update datastore:      ( 3921 |   16)\n"
     ]
    }
   ],
   "source": [
    "# *** ds_all <- concat(ds_list) ***\n",
    "ds_all = cpp.DataSet()\n",
    "ds_all.data = pd.concat(ds_list)\n",
    "ds_all.print_log(\"concat data\")\n",
    "del ds_list\n",
    "ds_all.write_pkl(\"170630_references.pkl\")\n",
    "# ds_all = cpp.load_pkl(\"170630_references.pkl\")\n",
    "\n",
    "\n",
    "# *** ds_profile <- ds_all ***\n",
    "ds_profile = ds_all.join_smiles()\n",
    "\n",
    "\n",
    "# *** ds_ref <- ds_profile ***\n",
    "ds_ref, _ = ds_profile.remove_impure()\n",
    "ds_ref, _ = ds_ref.remove_toxic()\n",
    "ds_ref = ds_ref[ds_ref[\"Activity\"] >= 2.5]\n",
    "ds_ref = ds_ref.join_annotations()\n",
    "ds_ref.update_similar_refs(mode=\"ref\")\n",
    "ds_ref = ds_ref[keep]\n",
    "ds_ref.write_csv(\"references_act_prof.tsv\")\n",
    "\n",
    "\n",
    "# *** update DATASTORE ***\n",
    "ds_profile.update_datastore(mode=\"ref\")"
   ]
  },
  {
   "cell_type": "code",
   "execution_count": null,
   "metadata": {
    "collapsed": true
   },
   "outputs": [],
   "source": []
  }
 ],
 "metadata": {
  "hide_input": false,
  "kernelspec": {
   "display_name": "Python 3",
   "language": "python",
   "name": "python3"
  },
  "language_info": {
   "codemirror_mode": {
    "name": "ipython",
    "version": 3
   },
   "file_extension": ".py",
   "mimetype": "text/x-python",
   "name": "python",
   "nbconvert_exporter": "python",
   "pygments_lexer": "ipython3",
   "version": "3.6.2"
  },
  "nav_menu": {},
  "toc": {
   "colors": {
    "hover_highlight": "#DAA520",
    "navigate_num": "#000000",
    "navigate_text": "#333333",
    "running_highlight": "#FF0000",
    "selected_highlight": "#FFD700",
    "sidebar_border": "#EEEEEE",
    "wrapper_background": "#FFFFFF"
   },
   "moveMenuLeft": true,
   "nav_menu": {
    "height": "49px",
    "width": "252px"
   },
   "navigate_menu": true,
   "number_sections": true,
   "sideBar": true,
   "threshold": 4,
   "toc_cell": false,
   "toc_section_display": "block",
   "toc_window_display": false,
   "widenNotebook": false
  }
 },
 "nbformat": 4,
 "nbformat_minor": 2
}
